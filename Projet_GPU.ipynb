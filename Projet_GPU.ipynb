{
  "nbformat": 4,
  "nbformat_minor": 0,
  "metadata": {
    "colab": {
      "name": "Projet_GPU",
      "provenance": [],
      "machine_shape": "hm",
      "authorship_tag": "ABX9TyPD8N6iHX/68/lKZlyOSZel",
      "include_colab_link": true
    },
    "kernelspec": {
      "name": "python3",
      "display_name": "Python 3"
    },
    "accelerator": "GPU"
  },
  "cells": [
    {
      "cell_type": "markdown",
      "metadata": {
        "id": "view-in-github",
        "colab_type": "text"
      },
      "source": [
        "<a href=\"https://colab.research.google.com/github/IsmailHaris/MS-HPC-AI-GPU/blob/master/Projet_GPU.ipynb\" target=\"_parent\"><img src=\"https://colab.research.google.com/assets/colab-badge.svg\" alt=\"Open In Colab\"/></a>"
      ]
    },
    {
      "cell_type": "markdown",
      "metadata": {
        "id": "KoGQHOiVrJEn",
        "colab_type": "text"
      },
      "source": [
        "Black Scholes Numpy basic\n"
      ]
    },
    {
      "cell_type": "code",
      "metadata": {
        "id": "utwfwWc7gpYa",
        "colab_type": "code",
        "colab": {
          "base_uri": "https://localhost:8080/",
          "height": 669
        },
        "cellView": "code",
        "outputId": "5c02cd13-54b8-4c4f-ceb4-008d2bbb5b0a"
      },
      "source": [
        "import numpy as np\n",
        "from scipy.stats import norm\n",
        "import time\n",
        "import matplotlib.pyplot as plt\n",
        "\n",
        " \n",
        "Risk_Free_Rate = 0.0118 # the current US 10 Year Treasury Rate :1.18% for Mar 18 2020\n",
        "VOLATILITY = 1 # CBOE Volatility Index in the US markets due to covid19 attein 100% monthly variation in February/March 2020\n",
        "\n",
        "#We assume the stock don't pay dividends. \n",
        "\n",
        "# We first need to define the cumulative distribution fonction of the standard normal distribution.\n",
        "\n",
        "def cdf(d):\n",
        "  return norm.cdf(d, loc=0, scale=1)\n",
        "\n",
        "#Then we define our black scholes analytical formula for a call option and a put option\n",
        "\n",
        "def black_scholes(Call_Option_Result, Put_Option_Result, stockPrice, optionStrike, Maturity,\n",
        "                  Riskfree, Volatility):\n",
        "    S = stockPrice\n",
        "    K = optionStrike\n",
        "    T = Maturity\n",
        "    R = Riskfree\n",
        "    V = Volatility\n",
        "    sqrtT = np.sqrt(T)\n",
        "    d1 = (np.log(S / K) + (R + 0.5 * V * V) * T) / (V * sqrtT)\n",
        "    d2 = d1 - V * sqrtT\n",
        "    cdfd1 = cdf(d1)\n",
        "    cdfd2 = cdf(d2)\n",
        " \n",
        "    expRT = np.exp(- R * T)\n",
        "    Call_Option_Result[:] = (S * cdfd1 - K * expRT * cdfd2)\n",
        "    Put_Option_Result[:]= K * expRT * (1.0 - cdfd2) - S * (1.0 - cdfd1)\n",
        "    \n",
        " \n",
        "def randfloat(rand_var, low, high):\n",
        "    return (1.0 - rand_var) * low + rand_var * high\n",
        " \n",
        "def main ():\n",
        "\n",
        "    Number_of_input_elements = [10000,100000,1000000,2000000,3000000,4000000,5000000,10000000,20000000,50000000,75000000,100000000]\n",
        "    Execution_time_numpy = []\n",
        "\n",
        "    for i in Number_of_input_elements:\n",
        "      Call_Option_Result = np.zeros(i)\n",
        "      Put_Option_Result = np.zeros(i)\n",
        "      stockPrice = randfloat(np.random.random(i), 5.0, 30.0)\n",
        "      optionStrike = randfloat(np.random.random(i), 1.0, 100.0)\n",
        "      Maturity = randfloat(np.random.random(i), 0.25, 10.0) # Duration of the option varies from 3 months to 10 years\n",
        " \n",
        "      start = time.time()\n",
        "      black_scholes(Call_Option_Result, Put_Option_Result, stockPrice, optionStrike,\n",
        "                      Maturity, Risk_Free_Rate, VOLATILITY)\n",
        "      end = time.time()\n",
        "      print(\"Numpy Time: %f µsec per option for %f elements\" %((1000000*(end-start)/i),i))\n",
        "      print(\"Numpy Time: %f µsec for %f elements\" %((1000000*(end-start)),i))\n",
        "      Execution_time_numpy.append((1000000*(end-start)))\n",
        "    print(Execution_time_numpy)\n",
        "    plt.plot(Number_of_input_elements,Execution_time_numpy)\n",
        "    plt.show()\n",
        "\n",
        " \n",
        "#if __name__ == \"__main__\":\n",
        " \n",
        "main()"
      ],
      "execution_count": 1,
      "outputs": [
        {
          "output_type": "stream",
          "text": [
            "Numpy Time: 0.641155 µsec per option for 10000.000000 elements\n",
            "Numpy Time: 6411.552429 µsec for 10000.000000 elements\n",
            "Numpy Time: 0.231831 µsec per option for 100000.000000 elements\n",
            "Numpy Time: 23183.107376 µsec for 100000.000000 elements\n",
            "Numpy Time: 0.209512 µsec per option for 1000000.000000 elements\n",
            "Numpy Time: 209511.995316 µsec for 1000000.000000 elements\n",
            "Numpy Time: 0.211586 µsec per option for 2000000.000000 elements\n",
            "Numpy Time: 423171.281815 µsec for 2000000.000000 elements\n",
            "Numpy Time: 0.220991 µsec per option for 3000000.000000 elements\n",
            "Numpy Time: 662972.927094 µsec for 3000000.000000 elements\n",
            "Numpy Time: 0.220495 µsec per option for 4000000.000000 elements\n",
            "Numpy Time: 881981.134415 µsec for 4000000.000000 elements\n",
            "Numpy Time: 0.225080 µsec per option for 5000000.000000 elements\n",
            "Numpy Time: 1125399.589539 µsec for 5000000.000000 elements\n",
            "Numpy Time: 0.226835 µsec per option for 10000000.000000 elements\n",
            "Numpy Time: 2268347.978592 µsec for 10000000.000000 elements\n",
            "Numpy Time: 0.227184 µsec per option for 20000000.000000 elements\n",
            "Numpy Time: 4543685.674667 µsec for 20000000.000000 elements\n",
            "Numpy Time: 0.224720 µsec per option for 50000000.000000 elements\n",
            "Numpy Time: 11236013.889313 µsec for 50000000.000000 elements\n"
          ],
          "name": "stdout"
        },
        {
          "output_type": "error",
          "ename": "KeyboardInterrupt",
          "evalue": "ignored",
          "traceback": [
            "\u001b[0;31m---------------------------------------------------------------------------\u001b[0m",
            "\u001b[0;31mKeyboardInterrupt\u001b[0m                         Traceback (most recent call last)",
            "\u001b[0;32m<ipython-input-1-ba4275e50639>\u001b[0m in \u001b[0;36m<module>\u001b[0;34m()\u001b[0m\n\u001b[1;32m     64\u001b[0m \u001b[0;31m#if __name__ == \"__main__\":\u001b[0m\u001b[0;34m\u001b[0m\u001b[0;34m\u001b[0m\u001b[0;34m\u001b[0m\u001b[0m\n\u001b[1;32m     65\u001b[0m \u001b[0;34m\u001b[0m\u001b[0m\n\u001b[0;32m---> 66\u001b[0;31m \u001b[0mmain\u001b[0m\u001b[0;34m(\u001b[0m\u001b[0;34m)\u001b[0m\u001b[0;34m\u001b[0m\u001b[0;34m\u001b[0m\u001b[0m\n\u001b[0m",
            "\u001b[0;32m<ipython-input-1-ba4275e50639>\u001b[0m in \u001b[0;36mmain\u001b[0;34m()\u001b[0m\n\u001b[1;32m     46\u001b[0m       \u001b[0mCall_Option_Result\u001b[0m \u001b[0;34m=\u001b[0m \u001b[0mnp\u001b[0m\u001b[0;34m.\u001b[0m\u001b[0mzeros\u001b[0m\u001b[0;34m(\u001b[0m\u001b[0mi\u001b[0m\u001b[0;34m)\u001b[0m\u001b[0;34m\u001b[0m\u001b[0;34m\u001b[0m\u001b[0m\n\u001b[1;32m     47\u001b[0m       \u001b[0mPut_Option_Result\u001b[0m \u001b[0;34m=\u001b[0m \u001b[0mnp\u001b[0m\u001b[0;34m.\u001b[0m\u001b[0mzeros\u001b[0m\u001b[0;34m(\u001b[0m\u001b[0mi\u001b[0m\u001b[0;34m)\u001b[0m\u001b[0;34m\u001b[0m\u001b[0;34m\u001b[0m\u001b[0m\n\u001b[0;32m---> 48\u001b[0;31m       \u001b[0mstockPrice\u001b[0m \u001b[0;34m=\u001b[0m \u001b[0mrandfloat\u001b[0m\u001b[0;34m(\u001b[0m\u001b[0mnp\u001b[0m\u001b[0;34m.\u001b[0m\u001b[0mrandom\u001b[0m\u001b[0;34m.\u001b[0m\u001b[0mrandom\u001b[0m\u001b[0;34m(\u001b[0m\u001b[0mi\u001b[0m\u001b[0;34m)\u001b[0m\u001b[0;34m,\u001b[0m \u001b[0;36m5.0\u001b[0m\u001b[0;34m,\u001b[0m \u001b[0;36m30.0\u001b[0m\u001b[0;34m)\u001b[0m\u001b[0;34m\u001b[0m\u001b[0;34m\u001b[0m\u001b[0m\n\u001b[0m\u001b[1;32m     49\u001b[0m       \u001b[0moptionStrike\u001b[0m \u001b[0;34m=\u001b[0m \u001b[0mrandfloat\u001b[0m\u001b[0;34m(\u001b[0m\u001b[0mnp\u001b[0m\u001b[0;34m.\u001b[0m\u001b[0mrandom\u001b[0m\u001b[0;34m.\u001b[0m\u001b[0mrandom\u001b[0m\u001b[0;34m(\u001b[0m\u001b[0mi\u001b[0m\u001b[0;34m)\u001b[0m\u001b[0;34m,\u001b[0m \u001b[0;36m1.0\u001b[0m\u001b[0;34m,\u001b[0m \u001b[0;36m100.0\u001b[0m\u001b[0;34m)\u001b[0m\u001b[0;34m\u001b[0m\u001b[0;34m\u001b[0m\u001b[0m\n\u001b[1;32m     50\u001b[0m       \u001b[0mMaturity\u001b[0m \u001b[0;34m=\u001b[0m \u001b[0mrandfloat\u001b[0m\u001b[0;34m(\u001b[0m\u001b[0mnp\u001b[0m\u001b[0;34m.\u001b[0m\u001b[0mrandom\u001b[0m\u001b[0;34m.\u001b[0m\u001b[0mrandom\u001b[0m\u001b[0;34m(\u001b[0m\u001b[0mi\u001b[0m\u001b[0;34m)\u001b[0m\u001b[0;34m,\u001b[0m \u001b[0;36m0.25\u001b[0m\u001b[0;34m,\u001b[0m \u001b[0;36m10.0\u001b[0m\u001b[0;34m)\u001b[0m \u001b[0;31m# Duration of the option varies from 3 months to 10 years\u001b[0m\u001b[0;34m\u001b[0m\u001b[0;34m\u001b[0m\u001b[0m\n",
            "\u001b[0;31mKeyboardInterrupt\u001b[0m: "
          ]
        }
      ]
    },
    {
      "cell_type": "markdown",
      "metadata": {
        "id": "lksR2qaLrUw4",
        "colab_type": "text"
      },
      "source": [
        "Black Scholes with Numba"
      ]
    },
    {
      "cell_type": "code",
      "metadata": {
        "id": "iJhAzVcTq-a1",
        "colab_type": "code",
        "colab": {}
      },
      "source": [
        ""
      ],
      "execution_count": 0,
      "outputs": []
    },
    {
      "cell_type": "markdown",
      "metadata": {
        "id": "wkXoWwjr8Uur",
        "colab_type": "text"
      },
      "source": [
        "Numba with Cuda Kernel \n"
      ]
    },
    {
      "cell_type": "code",
      "metadata": {
        "id": "4yYDtcRAq-eU",
        "colab_type": "code",
        "colab": {
          "base_uri": "https://localhost:8080/",
          "height": 671
        },
        "outputId": "935efe34-774e-46ec-ab24-3243d845b1bd"
      },
      "source": [
        "\n",
        "import math\n",
        "import time\n",
        "import numpy as np\n",
        "from numba import cuda\n",
        "from numba import jit\n",
        "from scipy.stats import norm\n",
        "import matplotlib.pyplot as plt\n",
        "import random\n",
        "\n",
        "Risk_Free_Rate = 0.0118 # the current US 10 Year Treasury Rate :1.18% for Mar 18 2020\n",
        "VOLATILITY = 1 # CBOE Volatility Index in the US markets due to covid19 attein 100% monthly variation in February/March 2020\n",
        "\n",
        "\n",
        "@cuda.jit(device=True)\n",
        "\n",
        "def cdf_cuda(d): #I can't use a scipy function here\n",
        "    A1 = 0.31938153\n",
        "    A2 = -0.356563782\n",
        "    A3 = 1.781477937\n",
        "    A4 = -1.821255978\n",
        "    A5 = 1.330274429\n",
        "    RSQRT2PI = 0.39894228040143267793994605993438\n",
        "    K = 1.0 / (1.0 + 0.2316419 * math.fabs(d))\n",
        "    ret_val = (RSQRT2PI * math.exp(-0.5 * d * d) *\n",
        "               (K * (A1 + K * (A2 + K * (A3 + K * (A4 + K * A5))))))\n",
        "    if d > 0:\n",
        "        ret_val = 1.0 - ret_val\n",
        "    return ret_val\n",
        "\n",
        "#let's define our Cuda Kernel \n",
        "\n",
        "@cuda.jit\n",
        "def black_scholes_cuda_kernel(Call_Option_Result, Put_Option_Result, S, K, T, R, V):\n",
        "    #    S = stockPrice\n",
        "    #    K = optionStrike\n",
        "    #    T = maturity\n",
        "    #    R = Riskfree\n",
        "    #    V = Volatility\n",
        "\n",
        "\n",
        "\n",
        "    i = cuda.threadIdx.x + cuda.blockIdx.x * cuda.blockDim.x\n",
        "    #cuda.threadIdx.x this is the unique thread ID within a 1D block \n",
        "    #cuda.blockIdx.x   this is the unique block ID within the 1D grid\n",
        "    stride = cuda.blockDim.x * cuda.gridDim.x  \n",
        "\n",
        "\n",
        "\n",
        "    #Thread indices beyond the length of the input (S.shape[0], since S is a NumPy array) automatically skip over the for loop.\n",
        "    if i >= S.shape[0]:\n",
        "        return\n",
        "\n",
        "\n",
        "    sqrtT = math.sqrt(T[i])\n",
        "    d1 = (math.log(S[i] / K[i]) + (R + 0.5 * V * V) * T[i]) / (V * sqrtT)\n",
        "    d2 = d1 - V * sqrtT\n",
        "\n",
        "    cdfd1 = cdf_cuda(d1)\n",
        "    cdfd2 = cdf_cuda(d2)\n",
        "\n",
        "    expRT = math.exp((-1. * R) * T[i])\n",
        "    Call_Option_Result[i] = (S[i] * cdfd1 - K[i] * expRT * cdfd2)\n",
        "    Put_Option_Result[i] = (K[i] * expRT * (1.0 - cdfd2) - S[i] * (1.0 - cdfd1))\n",
        "    \n",
        "\n",
        "#let's define now our Cuda function that will use the Cuda Kernel set above. This is where I will define my block size and grid size. \n",
        "def black_scholes_cuda(stockPrice, optionStrike, Maturity, Riskfree, Volatility):\n",
        "\n",
        "    blockdim = 1024,1  # number of threads per block\n",
        "    griddim = int(math.ceil(float(len(stockPrice))/blockdim[0])),1  # number of blocks in the grid\n",
        "    stream = cuda.stream()\n",
        "\n",
        "\n",
        "    OPT_N = len(stockPrice) #My reference in terme of size because 1 stockPrice gives me One Option price (call or put)\n",
        "\n",
        "    #Send data and empty data to the GPU (device)\n",
        "    GPU_callResult = cuda.to_device(np.zeros(OPT_N), stream)\n",
        "    GPU_putResult = cuda.to_device(np.zeros(OPT_N), stream)\n",
        "    GPU_stockPrice = cuda.to_device(stockPrice, stream)\n",
        "    GPU_optionStrike = cuda.to_device(optionStrike, stream)\n",
        "    GPU_maturity = cuda.to_device(Maturity, stream)\n",
        "\n",
        "    #Run the kernel \n",
        "    black_scholes_cuda_kernel[griddim, blockdim, stream](\n",
        "            GPU_callResult, GPU_putResult, GPU_stockPrice, GPU_optionStrike,\n",
        "            GPU_maturity, Riskfree, Volatility)\n",
        "    \n",
        "    #Collect results from GPU to the CPU host\n",
        "    Call_Option_Result = GPU_callResult.to_host(stream)\n",
        "    Put_Option_Result= GPU_putResult.to_host(stream)\n",
        "\n",
        "\n",
        "    stream.synchronize()\n",
        "\n",
        "\n",
        "def main ():\n",
        "\n",
        "    Number_of_input_elements = [10000,100000,1000000,2000000,3000000,4000000,5000000,10000000,20000000,50000000,75000000,100000000]\n",
        "    Execution_time_cuda = []\n",
        "\n",
        "    for i in Number_of_input_elements:\n",
        "      stockPrice = [random.uniform(5.0, 30.0) for j in range(i)]\n",
        "      optionStrike = [random.uniform(1.0, 100.0) for j in range(i)]\n",
        "      Maturity = [random.uniform(0.25, 10.0) for j in range(i)]\n",
        "      \n",
        "      start = time.time()\n",
        "      black_scholes_cuda(stockPrice, optionStrike,Maturity, Risk_Free_Rate, VOLATILITY)\n",
        "      end = time.time()\n",
        "      print(\"Cuda Time: %f µsec per option for %f elements\" %((1000000*(end-start)/i),i))\n",
        "      print(\"Cuda Time: %f µsec for %f elements\" %((1000000*(end-start)),i))\n",
        "      Execution_time_cuda.append((1000000*(end-start)))\n",
        "    plt.plot(Number_of_input_elements,Execution_time_cuda)\n",
        "    plt.show()\n",
        "\n",
        " \n",
        "#if __name__ == \"__main__\":\n",
        " \n",
        "main()\n"
      ],
      "execution_count": 56,
      "outputs": [
        {
          "output_type": "stream",
          "text": [
            "Cuda Time: 34.884429 µsec per option for 10000.000000 elements\n",
            "Cuda Time: 348844.289780 µsec for 10000.000000 elements\n",
            "Cuda Time: 0.191376 µsec per option for 100000.000000 elements\n",
            "Cuda Time: 19137.620926 µsec for 100000.000000 elements\n",
            "Cuda Time: 0.165427 µsec per option for 1000000.000000 elements\n",
            "Cuda Time: 165426.731110 µsec for 1000000.000000 elements\n",
            "Cuda Time: 0.149950 µsec per option for 2000000.000000 elements\n",
            "Cuda Time: 299899.816513 µsec for 2000000.000000 elements\n",
            "Cuda Time: 0.139987 µsec per option for 3000000.000000 elements\n",
            "Cuda Time: 419960.021973 µsec for 3000000.000000 elements\n",
            "Cuda Time: 0.145470 µsec per option for 4000000.000000 elements\n",
            "Cuda Time: 581879.138947 µsec for 4000000.000000 elements\n",
            "Cuda Time: 0.138511 µsec per option for 5000000.000000 elements\n",
            "Cuda Time: 692557.334900 µsec for 5000000.000000 elements\n",
            "Cuda Time: 0.140268 µsec per option for 10000000.000000 elements\n",
            "Cuda Time: 1402676.343918 µsec for 10000000.000000 elements\n",
            "Cuda Time: 0.133821 µsec per option for 20000000.000000 elements\n",
            "Cuda Time: 2676425.695419 µsec for 20000000.000000 elements\n",
            "Cuda Time: 0.136703 µsec per option for 50000000.000000 elements\n",
            "Cuda Time: 6835169.553757 µsec for 50000000.000000 elements\n",
            "Cuda Time: 0.138944 µsec per option for 100000000.000000 elements\n",
            "Cuda Time: 13894363.164902 µsec for 100000000.000000 elements\n"
          ],
          "name": "stdout"
        },
        {
          "output_type": "display_data",
          "data": {
            "image/png": "[encoded data removed]",
            "text/plain": [
              "<Figure size 432x288 with 1 Axes>"
            ]
          },
          "metadata": {
            "tags": []
          }
        }
      ]
    },
    {
      "cell_type": "code",
      "metadata": {
        "id": "d6oOb2dYq-ha",
        "colab_type": "code",
        "colab": {}
      },
      "source": [
        ""
      ],
      "execution_count": 0,
      "outputs": []
    },
    {
      "cell_type": "code",
      "metadata": {
        "id": "btuESjWzq-ko",
        "colab_type": "code",
        "colab": {}
      },
      "source": [
        ""
      ],
      "execution_count": 0,
      "outputs": []
    },
    {
      "cell_type": "code",
      "metadata": {
        "id": "DY4lIdZpq-nx",
        "colab_type": "code",
        "colab": {}
      },
      "source": [
        ""
      ],
      "execution_count": 0,
      "outputs": []
    },
    {
      "cell_type": "code",
      "metadata": {
        "id": "FQakPzNXq-rM",
        "colab_type": "code",
        "colab": {}
      },
      "source": [
        ""
      ],
      "execution_count": 0,
      "outputs": []
    },
    {
      "cell_type": "code",
      "metadata": {
        "id": "WfngLtOUq-t_",
        "colab_type": "code",
        "colab": {}
      },
      "source": [
        ""
      ],
      "execution_count": 0,
      "outputs": []
    },
    {
      "cell_type": "code",
      "metadata": {
        "id": "QEKjiuk5q-wr",
        "colab_type": "code",
        "colab": {}
      },
      "source": [
        ""
      ],
      "execution_count": 0,
      "outputs": []
    },
    {
      "cell_type": "code",
      "metadata": {
        "id": "5f_V3qepq-zq",
        "colab_type": "code",
        "colab": {}
      },
      "source": [
        ""
      ],
      "execution_count": 0,
      "outputs": []
    },
    {
      "cell_type": "code",
      "metadata": {
        "id": "RaKEJvTqq-2j",
        "colab_type": "code",
        "colab": {}
      },
      "source": [
        ""
      ],
      "execution_count": 0,
      "outputs": []
    }
  ]
}