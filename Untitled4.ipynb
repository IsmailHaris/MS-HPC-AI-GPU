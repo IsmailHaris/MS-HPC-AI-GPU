{
  "nbformat": 4,
  "nbformat_minor": 0,
  "metadata": {
    "colab": {
      "name": "Untitled4.ipynb",
      "provenance": [],
      "machine_shape": "hm",
      "authorship_tag": "ABX9TyN5gPFNtE8VjGXVdWHlkVyL",
      "include_colab_link": true
    },
    "kernelspec": {
      "name": "python3",
      "display_name": "Python 3"
    },
    "accelerator": "GPU"
  },
  "cells": [
    {
      "cell_type": "markdown",
      "metadata": {
        "id": "view-in-github",
        "colab_type": "text"
      },
      "source": [
        "<a href=\"https://colab.research.google.com/github/IsmailHaris/MS-HPC-AI-GPU/blob/master/Untitled4.ipynb\" target=\"_parent\"><img src=\"https://colab.research.google.com/assets/colab-badge.svg\" alt=\"Open In Colab\"/></a>"
      ]
    },
    {
      "cell_type": "markdown",
      "metadata": {
        "id": "imVFmMMJ9dVE",
        "colab_type": "text"
      },
      "source": [
        "Numpy Basic"
      ]
    },
    {
      "cell_type": "code",
      "metadata": {
        "id": "f0qkUtfg9Zci",
        "colab_type": "code",
        "outputId": "e0d46f6a-f3d2-4a4c-cc84-609d846f0761",
        "colab": {
          "base_uri": "https://localhost:8080/",
          "height": 743
        }
      },
      "source": [
        "import numpy as np\n",
        "from scipy.stats import norm\n",
        "import time\n",
        "import matplotlib.pyplot as plt\n",
        "\n",
        " \n",
        "Risk_Free_Rate = 0.0118 # the current US 10 Year Treasury Rate :1.18% for Mar 18 2020\n",
        "VOLATILITY = 1 # CBOE Volatility Index in the US markets due to covid19 attein 100% monthly variation in February/March 2020\n",
        "\n",
        "#We assume the stock don't pay dividends. \n",
        "\n",
        "# We first need to define the cumulative distribution fonction of the standard normal distribution.\n",
        "\n",
        "def cdf(d):\n",
        "  return norm.cdf(d, loc=0, scale=1)\n",
        "\n",
        "#Then we define our black scholes analytical formula for a call option and a put option\n",
        "\n",
        "def black_scholes(Call_Option_Result, Put_Option_Result, stockPrice, optionStrike, Maturity,\n",
        "                  Riskfree, Volatility):\n",
        "    S = stockPrice\n",
        "    K = optionStrike\n",
        "    T = Maturity\n",
        "    R = Riskfree\n",
        "    V = Volatility\n",
        "    sqrtT = np.sqrt(T)\n",
        "    d1 = (np.log(S / K) + (R + 0.5 * V * V) * T) / (V * sqrtT)\n",
        "    d2 = d1 - V * sqrtT\n",
        "    cdfd1 = cdf(d1)\n",
        "    cdfd2 = cdf(d2)\n",
        " \n",
        "    expRT = np.exp(- R * T)\n",
        "    Call_Option_Result[:] = (S * cdfd1 - K * expRT * cdfd2)\n",
        "    Put_Option_Result[:]= K * expRT * (1.0 - cdfd2) - S * (1.0 - cdfd1)\n",
        "    \n",
        " \n",
        "def randfloat(rand_var, low, high):\n",
        "    return (1.0 - rand_var) * low + rand_var * high\n",
        " \n",
        "def main ():\n",
        "\n",
        "    Number_of_input_elements = [10000,100000,1000000,2000000,3000000,4000000,5000000,10000000,20000000,50000000,75000000,100000000]\n",
        "    Execution_time_numpy = []\n",
        "\n",
        "    for i in Number_of_input_elements:\n",
        "\n",
        "      \n",
        "      stockPrice = randfloat(np.random.random(i), 5.0, 30.0)\n",
        "      optionStrike = randfloat(np.random.random(i), 1.0, 100.0)\n",
        "      Maturity = randfloat(np.random.random(i), 0.25, 10.0) # Duration of the option varies from 3 months to 10 years\n",
        " \n",
        "      start = time.time()\n",
        "      Call_Option_Result = np.zeros(i)\n",
        "      Put_Option_Result = np.zeros(i)\n",
        "      \n",
        "      black_scholes(Call_Option_Result, Put_Option_Result, stockPrice, optionStrike,\n",
        "                      Maturity, Risk_Free_Rate, VOLATILITY)\n",
        "      end = time.time()\n",
        "      print(\"Numpy Time: %f µsec per option for %f elements\" %((1000000*(end-start)/i),i))\n",
        "      print(\"Numpy Time: %f µsec for %f elements\" %((1000000*(end-start)),i))\n",
        "      Execution_time_numpy.append((1000000*(end-start)))\n",
        "    print(Execution_time_numpy)\n",
        "    plt.plot(Number_of_input_elements,Execution_time_numpy)\n",
        "    plt.show()\n",
        "\n",
        " \n",
        "#if __name__ == \"__main__\":\n",
        " \n",
        "main()"
      ],
      "execution_count": 0,
      "outputs": [
        {
          "output_type": "stream",
          "text": [
            "Numpy Time: 0.835419 µsec per option for 10000.000000 elements\n",
            "Numpy Time: 8354.187012 µsec for 10000.000000 elements\n",
            "Numpy Time: 0.280409 µsec per option for 100000.000000 elements\n",
            "Numpy Time: 28040.885925 µsec for 100000.000000 elements\n",
            "Numpy Time: 0.241185 µsec per option for 1000000.000000 elements\n",
            "Numpy Time: 241185.188293 µsec for 1000000.000000 elements\n",
            "Numpy Time: 0.237353 µsec per option for 2000000.000000 elements\n",
            "Numpy Time: 474705.934525 µsec for 2000000.000000 elements\n",
            "Numpy Time: 0.226207 µsec per option for 3000000.000000 elements\n",
            "Numpy Time: 678619.861603 µsec for 3000000.000000 elements\n",
            "Numpy Time: 0.220313 µsec per option for 4000000.000000 elements\n",
            "Numpy Time: 881251.096725 µsec for 4000000.000000 elements\n",
            "Numpy Time: 0.216043 µsec per option for 5000000.000000 elements\n",
            "Numpy Time: 1080216.407776 µsec for 5000000.000000 elements\n",
            "Numpy Time: 0.228686 µsec per option for 10000000.000000 elements\n",
            "Numpy Time: 2286855.697632 µsec for 10000000.000000 elements\n",
            "Numpy Time: 0.229170 µsec per option for 20000000.000000 elements\n",
            "Numpy Time: 4583409.547806 µsec for 20000000.000000 elements\n",
            "Numpy Time: 0.228348 µsec per option for 50000000.000000 elements\n",
            "Numpy Time: 11417416.572571 µsec for 50000000.000000 elements\n",
            "Numpy Time: 0.218162 µsec per option for 75000000.000000 elements\n",
            "Numpy Time: 16362128.973007 µsec for 75000000.000000 elements\n",
            "Numpy Time: 0.212417 µsec per option for 100000000.000000 elements\n",
            "Numpy Time: 21241680.860519 µsec for 100000000.000000 elements\n",
            "[8354.18701171875, 28040.88592529297, 241185.18829345703, 474705.93452453613, 678619.8616027832, 881251.0967254639, 1080216.407775879, 2286855.697631836, 4583409.547805786, 11417416.5725708, 16362128.973007202, 21241680.86051941]\n"
          ],
          "name": "stdout"
        },
        {
          "output_type": "display_data",
          "data": {
            "image/png": "[encoded data removed]",
            "text/plain": [
              "<Figure size 432x288 with 1 Axes>"
            ]
          },
          "metadata": {
            "tags": []
          }
        }
      ]
    },
    {
      "cell_type": "code",
      "metadata": {
        "id": "AzBiTuUa9ZfZ",
        "colab_type": "code",
        "colab": {}
      },
      "source": [
        ""
      ],
      "execution_count": 0,
      "outputs": []
    },
    {
      "cell_type": "markdown",
      "metadata": {
        "id": "Hft_0yhf_Xdt",
        "colab_type": "text"
      },
      "source": [
        "Numpy with GPU"
      ]
    },
    {
      "cell_type": "code",
      "metadata": {
        "id": "BBC2IS4C9Zho",
        "colab_type": "code",
        "outputId": "d0f673d7-15e4-4f8b-e94c-0c97cc144c0f",
        "colab": {
          "base_uri": "https://localhost:8080/",
          "height": 743
        }
      },
      "source": [
        "import numpy as np\n",
        "from scipy.stats import norm\n",
        "import time\n",
        "import matplotlib.pyplot as plt\n",
        "\n",
        " \n",
        "Risk_Free_Rate = 0.0118 # the current US 10 Year Treasury Rate :1.18% for Mar 18 2020\n",
        "VOLATILITY = 1 # CBOE Volatility Index in the US markets due to covid19 attein 100% monthly variation in February/March 2020\n",
        "\n",
        "#We assume the stock don't pay dividends. \n",
        "\n",
        "# We first need to define the cumulative distribution fonction of the standard normal distribution.\n",
        "\n",
        "def cdf(d):\n",
        "  return norm.cdf(d, loc=0, scale=1)\n",
        "\n",
        "#Then we define our black scholes analytical formula for a call option and a put option\n",
        "\n",
        "def black_scholes(Call_Option_Result, Put_Option_Result, stockPrice, optionStrike, Maturity,\n",
        "                  Riskfree, Volatility):\n",
        "    S = stockPrice\n",
        "    K = optionStrike\n",
        "    T = Maturity\n",
        "    R = Riskfree\n",
        "    V = Volatility\n",
        "    sqrtT = np.sqrt(T)\n",
        "    d1 = (np.log(S / K) + (R + 0.5 * V * V) * T) / (V * sqrtT)\n",
        "    d2 = d1 - V * sqrtT\n",
        "    cdfd1 = cdf(d1)\n",
        "    cdfd2 = cdf(d2)\n",
        " \n",
        "    expRT = np.exp(- R * T)\n",
        "    Call_Option_Result[:] = (S * cdfd1 - K * expRT * cdfd2)\n",
        "    Put_Option_Result[:]= K * expRT * (1.0 - cdfd2) - S * (1.0 - cdfd1)\n",
        "    \n",
        " \n",
        "def randfloat(rand_var, low, high):\n",
        "    return (1.0 - rand_var) * low + rand_var * high\n",
        " \n",
        "def main ():\n",
        "\n",
        "    Number_of_input_elements = [10000,100000,1000000,2000000,3000000,4000000,5000000,10000000,20000000,50000000,75000000,100000000]\n",
        "    Execution_time_numpy = []\n",
        "\n",
        "    for i in Number_of_input_elements:\n",
        "\n",
        "      \n",
        "      stockPrice = randfloat(np.random.random(i), 5.0, 30.0)\n",
        "      optionStrike = randfloat(np.random.random(i), 1.0, 100.0)\n",
        "      Maturity = randfloat(np.random.random(i), 0.25, 10.0) # Duration of the option varies from 3 months to 10 years\n",
        " \n",
        "      start = time.time()\n",
        "      Call_Option_Result = np.zeros(i)\n",
        "      Put_Option_Result = np.zeros(i)\n",
        "      \n",
        "      black_scholes(Call_Option_Result, Put_Option_Result, stockPrice, optionStrike,\n",
        "                      Maturity, Risk_Free_Rate, VOLATILITY)\n",
        "      end = time.time()\n",
        "      print(\"Numpy Time: %f µsec per option for %f elements\" %((1000000*(end-start)/i),i))\n",
        "      print(\"Numpy Time: %f µsec for %f elements\" %((1000000*(end-start)),i))\n",
        "      Execution_time_numpy.append((1000000*(end-start)))\n",
        "    print(Execution_time_numpy)\n",
        "    plt.plot(Number_of_input_elements,Execution_time_numpy)\n",
        "    plt.show()\n",
        "\n",
        " \n",
        "#if __name__ == \"__main__\":\n",
        " \n",
        "main()"
      ],
      "execution_count": 0,
      "outputs": [
        {
          "output_type": "stream",
          "text": [
            "Numpy Time: 0.231433 µsec per option for 10000.000000 elements\n",
            "Numpy Time: 2314.329147 µsec for 10000.000000 elements\n",
            "Numpy Time: 0.185766 µsec per option for 100000.000000 elements\n",
            "Numpy Time: 18576.622009 µsec for 100000.000000 elements\n",
            "Numpy Time: 0.167845 µsec per option for 1000000.000000 elements\n",
            "Numpy Time: 167844.772339 µsec for 1000000.000000 elements\n",
            "Numpy Time: 0.182280 µsec per option for 2000000.000000 elements\n",
            "Numpy Time: 364560.127258 µsec for 2000000.000000 elements\n",
            "Numpy Time: 0.178553 µsec per option for 3000000.000000 elements\n",
            "Numpy Time: 535658.121109 µsec for 3000000.000000 elements\n",
            "Numpy Time: 0.174301 µsec per option for 4000000.000000 elements\n",
            "Numpy Time: 697205.066681 µsec for 4000000.000000 elements\n",
            "Numpy Time: 0.178575 µsec per option for 5000000.000000 elements\n",
            "Numpy Time: 892873.764038 µsec for 5000000.000000 elements\n",
            "Numpy Time: 0.176906 µsec per option for 10000000.000000 elements\n",
            "Numpy Time: 1769064.664841 µsec for 10000000.000000 elements\n",
            "Numpy Time: 0.184957 µsec per option for 20000000.000000 elements\n",
            "Numpy Time: 3699145.793915 µsec for 20000000.000000 elements\n",
            "Numpy Time: 0.188762 µsec per option for 50000000.000000 elements\n",
            "Numpy Time: 9438120.603561 µsec for 50000000.000000 elements\n",
            "Numpy Time: 0.187234 µsec per option for 75000000.000000 elements\n",
            "Numpy Time: 14042552.471161 µsec for 75000000.000000 elements\n",
            "Numpy Time: 0.189312 µsec per option for 100000000.000000 elements\n",
            "Numpy Time: 18931196.212769 µsec for 100000000.000000 elements\n",
            "[2314.329147338867, 18576.622009277344, 167844.7723388672, 364560.1272583008, 535658.1211090088, 697205.0666809082, 892873.7640380859, 1769064.6648406982, 3699145.793914795, 9438120.603561401, 14042552.471160889, 18931196.212768555]\n"
          ],
          "name": "stdout"
        },
        {
          "output_type": "display_data",
          "data": {
            "image/png": "[encoded data removed]",
            "text/plain": [
              "<Figure size 432x288 with 1 Axes>"
            ]
          },
          "metadata": {
            "tags": []
          }
        }
      ]
    },
    {
      "cell_type": "code",
      "metadata": {
        "id": "wYV0XEXb_WHo",
        "colab_type": "code",
        "colab": {}
      },
      "source": [
        ""
      ],
      "execution_count": 0,
      "outputs": []
    },
    {
      "cell_type": "code",
      "metadata": {
        "id": "ng_BYhuP_WKN",
        "colab_type": "code",
        "colab": {}
      },
      "source": [
        ""
      ],
      "execution_count": 0,
      "outputs": []
    },
    {
      "cell_type": "code",
      "metadata": {
        "id": "e0dK-QPx_WPZ",
        "colab_type": "code",
        "colab": {}
      },
      "source": [
        ""
      ],
      "execution_count": 0,
      "outputs": []
    },
    {
      "cell_type": "code",
      "metadata": {
        "id": "dygHxFEI_WS4",
        "colab_type": "code",
        "colab": {}
      },
      "source": [
        ""
      ],
      "execution_count": 0,
      "outputs": []
    },
    {
      "cell_type": "code",
      "metadata": {
        "id": "CqKPEc69_WNQ",
        "colab_type": "code",
        "colab": {}
      },
      "source": [
        ""
      ],
      "execution_count": 0,
      "outputs": []
    },
    {
      "cell_type": "markdown",
      "metadata": {
        "id": "4J7zvNhj-IJo",
        "colab_type": "text"
      },
      "source": [
        "Numba GPU Cuda Kernel"
      ]
    },
    {
      "cell_type": "code",
      "metadata": {
        "id": "qqaar1oj9ZkY",
        "colab_type": "code",
        "outputId": "3f66f8fc-7559-4662-fb8c-97e713af3008",
        "colab": {
          "base_uri": "https://localhost:8080/",
          "height": 743
        }
      },
      "source": [
        "import math\n",
        "import time\n",
        "import numpy as np\n",
        "from numba import cuda\n",
        "from numba import jit\n",
        "from scipy.stats import norm\n",
        "import matplotlib.pyplot as plt\n",
        "import random\n",
        "\n",
        "Risk_Free_Rate = 0.0118 # the current US 10 Year Treasury Rate :1.18% for Mar 18 2020\n",
        "VOLATILITY = 1 # CBOE Volatility Index in the US markets due to covid19 attein 100% monthly variation in February/March 2020\n",
        "\n",
        "\n",
        "@cuda.jit(device=True)\n",
        "\n",
        "def cdf_cuda(d): #I can't use a scipy function here\n",
        "    A1 = 0.31938153\n",
        "    A2 = -0.356563782\n",
        "    A3 = 1.781477937\n",
        "    A4 = -1.821255978\n",
        "    A5 = 1.330274429\n",
        "    RSQRT2PI = 0.39894228040143267793994605993438\n",
        "    K = 1.0 / (1.0 + 0.2316419 * math.fabs(d))\n",
        "    ret_val = (RSQRT2PI * math.exp(-0.5 * d * d) *\n",
        "               (K * (A1 + K * (A2 + K * (A3 + K * (A4 + K * A5))))))\n",
        "    if d > 0:\n",
        "        ret_val = 1.0 - ret_val\n",
        "    return ret_val\n",
        "\n",
        "#let's define our Cuda Kernel \n",
        "\n",
        "@cuda.jit\n",
        "def black_scholes_cuda_kernel(Call_Option_Result, Put_Option_Result, S, K, T, R, V):\n",
        "    #    S = stockPrice\n",
        "    #    K = optionStrike\n",
        "    #    T = maturity\n",
        "    #    R = Riskfree\n",
        "    #    V = Volatility\n",
        "\n",
        "\n",
        "\n",
        "    i = cuda.threadIdx.x + cuda.blockIdx.x * cuda.blockDim.x\n",
        "    #cuda.threadIdx.x this is the unique thread ID within a 1D block \n",
        "    #cuda.blockIdx.x   this is the unique block ID within the 1D grid\n",
        "    stride = cuda.blockDim.x * cuda.gridDim.x  \n",
        "\n",
        "\n",
        "\n",
        "    #Thread indices beyond the length of the input (S.shape[0], since S is a NumPy array) automatically skip over the for loop.\n",
        "    if i >= S.shape[0]:\n",
        "        return\n",
        "\n",
        "\n",
        "    sqrtT = math.sqrt(T[i])\n",
        "    d1 = (math.log(S[i] / K[i]) + (R + 0.5 * V * V) * T[i]) / (V * sqrtT)\n",
        "    d2 = d1 - V * sqrtT\n",
        "\n",
        "    cdfd1 = cdf_cuda(d1)\n",
        "    cdfd2 = cdf_cuda(d2)\n",
        "\n",
        "    expRT = math.exp((-1. * R) * T[i])\n",
        "    Call_Option_Result[i] = (S[i] * cdfd1 - K[i] * expRT * cdfd2)\n",
        "    Put_Option_Result[i] = (K[i] * expRT * (1.0 - cdfd2) - S[i] * (1.0 - cdfd1))\n",
        "    \n",
        "\n",
        "#let's define now our Cuda function that will use the Cuda Kernel set above. This is where I will define my block size and grid size. \n",
        "def black_scholes_cuda(stockPrice, optionStrike, Maturity, Riskfree, Volatility):\n",
        "\n",
        "    blockdim = 1024,1  # number of threads per block\n",
        "    griddim = int(math.ceil(float(len(stockPrice))/blockdim[0])),1  # number of blocks in the grid\n",
        "    stream = cuda.stream()\n",
        "\n",
        "\n",
        "    OPT_N = len(stockPrice) #My reference in terme of size because 1 stockPrice gives me One Option price (call or put)\n",
        "\n",
        "    #Send data and empty data to the GPU (device)\n",
        "    GPU_callResult = cuda.to_device(np.zeros(OPT_N), stream)\n",
        "    GPU_putResult = cuda.to_device(np.zeros(OPT_N), stream)\n",
        "    GPU_stockPrice = cuda.to_device(stockPrice, stream)\n",
        "    GPU_optionStrike = cuda.to_device(optionStrike, stream)\n",
        "    GPU_maturity = cuda.to_device(Maturity, stream)\n",
        "\n",
        "    #Run the kernel \n",
        "    black_scholes_cuda_kernel[griddim, blockdim, stream](\n",
        "            GPU_callResult, GPU_putResult, GPU_stockPrice, GPU_optionStrike,\n",
        "            GPU_maturity, Riskfree, Volatility)\n",
        "    \n",
        "    #Collect results from GPU to the CPU host\n",
        "    Call_Option_Result = GPU_callResult.to_host(stream)\n",
        "    Put_Option_Result= GPU_putResult.to_host(stream)\n",
        "\n",
        "\n",
        "    stream.synchronize()\n",
        "\n",
        "\n",
        "def main ():\n",
        "\n",
        "    Number_of_input_elements = [10000,100000,1000000,2000000,3000000,4000000,5000000,10000000,20000000,50000000,75000000,100000000]\n",
        "    Execution_time_cuda = []\n",
        "\n",
        "    for i in Number_of_input_elements:\n",
        "      stockPrice = [random.uniform(5.0, 30.0) for j in range(i)]\n",
        "      optionStrike = [random.uniform(1.0, 100.0) for j in range(i)]\n",
        "      Maturity = [random.uniform(0.25, 10.0) for j in range(i)]\n",
        "      \n",
        "      start = time.time()\n",
        "      black_scholes_cuda(stockPrice, optionStrike,Maturity, Risk_Free_Rate, VOLATILITY)\n",
        "      end = time.time()\n",
        "      print(\"Cuda Time: %f µsec per option for %f elements\" %((1000000*(end-start)/i),i))\n",
        "      print(\"Cuda Time: %f µsec for %f elements\" %((1000000*(end-start)),i))\n",
        "      Execution_time_cuda.append((1000000*(end-start)))\n",
        "    print(Execution_time_cuda)\n",
        "    plt.plot(Number_of_input_elements,Execution_time_cuda)\n",
        "    plt.show()\n",
        "\n",
        " \n",
        "#if __name__ == \"__main__\":\n",
        " \n",
        "main()"
      ],
      "execution_count": 0,
      "outputs": [
        {
          "output_type": "stream",
          "text": [
            "Cuda Time: 56.213784 µsec per option for 10000.000000 elements\n",
            "Cuda Time: 562137.842178 µsec for 10000.000000 elements\n",
            "Cuda Time: 0.155516 µsec per option for 100000.000000 elements\n",
            "Cuda Time: 15551.567078 µsec for 100000.000000 elements\n",
            "Cuda Time: 0.132122 µsec per option for 1000000.000000 elements\n",
            "Cuda Time: 132122.278214 µsec for 1000000.000000 elements\n",
            "Cuda Time: 0.124013 µsec per option for 2000000.000000 elements\n",
            "Cuda Time: 248026.609421 µsec for 2000000.000000 elements\n",
            "Cuda Time: 0.123708 µsec per option for 3000000.000000 elements\n",
            "Cuda Time: 371124.744415 µsec for 3000000.000000 elements\n",
            "Cuda Time: 0.121722 µsec per option for 4000000.000000 elements\n",
            "Cuda Time: 486886.739731 µsec for 4000000.000000 elements\n",
            "Cuda Time: 0.144384 µsec per option for 5000000.000000 elements\n",
            "Cuda Time: 721920.728683 µsec for 5000000.000000 elements\n",
            "Cuda Time: 0.121819 µsec per option for 10000000.000000 elements\n",
            "Cuda Time: 1218189.716339 µsec for 10000000.000000 elements\n",
            "Cuda Time: 0.119287 µsec per option for 20000000.000000 elements\n",
            "Cuda Time: 2385735.750198 µsec for 20000000.000000 elements\n",
            "Cuda Time: 0.120638 µsec per option for 50000000.000000 elements\n",
            "Cuda Time: 6031901.836395 µsec for 50000000.000000 elements\n",
            "Cuda Time: 0.120489 µsec per option for 75000000.000000 elements\n",
            "Cuda Time: 9036674.737930 µsec for 75000000.000000 elements\n",
            "Cuda Time: 0.118286 µsec per option for 100000000.000000 elements\n",
            "Cuda Time: 11828557.252884 µsec for 100000000.000000 elements\n",
            "[562137.8421783447, 15551.567077636719, 132122.27821350098, 248026.60942077637, 371124.7444152832, 486886.73973083496, 721920.7286834717, 1218189.7163391113, 2385735.7501983643, 6031901.836395264, 9036674.737930298, 11828557.252883911]\n"
          ],
          "name": "stdout"
        },
        {
          "output_type": "display_data",
          "data": {
            "image/png": "[encoded data removed]",
            "text/plain": [
              "<Figure size 432x288 with 1 Axes>"
            ]
          },
          "metadata": {
            "tags": []
          }
        }
      ]
    },
    {
      "cell_type": "code",
      "metadata": {
        "id": "hOOgbnMa9Zm_",
        "colab_type": "code",
        "colab": {}
      },
      "source": [
        ""
      ],
      "execution_count": 0,
      "outputs": []
    },
    {
      "cell_type": "code",
      "metadata": {
        "id": "5jSH89Oq9Zpv",
        "colab_type": "code",
        "colab": {}
      },
      "source": [
        ""
      ],
      "execution_count": 0,
      "outputs": []
    },
    {
      "cell_type": "markdown",
      "metadata": {
        "id": "mEObNPXj_OGU",
        "colab_type": "text"
      },
      "source": [
        "Numba Cuda Kernel "
      ]
    },
    {
      "cell_type": "code",
      "metadata": {
        "id": "pCRFHMDr9ZsM",
        "colab_type": "code",
        "outputId": "3fac0240-7c8b-488c-ac11-8ad1183bc29f",
        "colab": {
          "base_uri": "https://localhost:8080/",
          "height": 731
        }
      },
      "source": [
        "import math\n",
        "import time\n",
        "import numpy as np\n",
        "from numba import cuda\n",
        "from numba import jit\n",
        "from scipy.stats import norm\n",
        "import matplotlib.pyplot as plt\n",
        "import random\n",
        "\n",
        "Risk_Free_Rate = 0.0118 # the current US 10 Year Treasury Rate :1.18% for Mar 18 2020\n",
        "VOLATILITY = 1 # CBOE Volatility Index in the US markets due to covid19 attein 100% monthly variation in February/March 2020\n",
        "\n",
        "\n",
        "@cuda.jit(device=True)\n",
        "\n",
        "def cdf_cuda(d): #I can't use a scipy function here\n",
        "    A1 = 0.31938153\n",
        "    A2 = -0.356563782\n",
        "    A3 = 1.781477937\n",
        "    A4 = -1.821255978\n",
        "    A5 = 1.330274429\n",
        "    RSQRT2PI = 0.39894228040143267793994605993438\n",
        "    K = 1.0 / (1.0 + 0.2316419 * math.fabs(d))\n",
        "    ret_val = (RSQRT2PI * math.exp(-0.5 * d * d) *\n",
        "               (K * (A1 + K * (A2 + K * (A3 + K * (A4 + K * A5))))))\n",
        "    if d > 0:\n",
        "        ret_val = 1.0 - ret_val\n",
        "    return ret_val\n",
        "\n",
        "#let's define our Cuda Kernel \n",
        "\n",
        "@cuda.jit\n",
        "def black_scholes_cuda_kernel(Call_Option_Result, Put_Option_Result, S, K, T, R, V):\n",
        "    #    S = stockPrice\n",
        "    #    K = optionStrike\n",
        "    #    T = maturity\n",
        "    #    R = Riskfree\n",
        "    #    V = Volatility\n",
        "\n",
        "\n",
        "\n",
        "    i = cuda.threadIdx.x + cuda.blockIdx.x * cuda.blockDim.x\n",
        "    #cuda.threadIdx.x this is the unique thread ID within a 1D block \n",
        "    #cuda.blockIdx.x   this is the unique block ID within the 1D grid\n",
        "    stride = cuda.blockDim.x * cuda.gridDim.x  \n",
        "\n",
        "\n",
        "\n",
        "    #Thread indices beyond the length of the input (S.shape[0], since S is a NumPy array) automatically skip over the for loop.\n",
        "    if i >= S.shape[0]:\n",
        "        return\n",
        "\n",
        "\n",
        "    sqrtT = math.sqrt(T[i])\n",
        "    d1 = (math.log(S[i] / K[i]) + (R + 0.5 * V * V) * T[i]) / (V * sqrtT)\n",
        "    d2 = d1 - V * sqrtT\n",
        "\n",
        "    cdfd1 = cdf_cuda(d1)\n",
        "    cdfd2 = cdf_cuda(d2)\n",
        "\n",
        "    expRT = math.exp((-1. * R) * T[i])\n",
        "    Call_Option_Result[i] = (S[i] * cdfd1 - K[i] * expRT * cdfd2)\n",
        "    Put_Option_Result[i] = (K[i] * expRT * (1.0 - cdfd2) - S[i] * (1.0 - cdfd1))\n",
        "    \n",
        "\n",
        "#let's define now our Cuda function that will use the Cuda Kernel set above. This is where I will define my block size and grid size. \n",
        "\n",
        "\n",
        "    \n",
        "\n",
        "\n",
        "def main ():\n",
        "\n",
        "    Number_of_input_elements = [10000,100000,1000000,2000000,3000000,4000000,5000000,10000000,20000000,50000000,75000000,100000000]\n",
        "    Execution_time_cuda = []\n",
        "    \n",
        "    for i in Number_of_input_elements:\n",
        "      stockPrice = [random.uniform(5.0, 30.0) for j in range(i)]\n",
        "      optionStrike = [random.uniform(1.0, 100.0) for j in range(i)]\n",
        "      Maturity = [random.uniform(0.25, 10.0) for j in range(i)]\n",
        "      \n",
        "      OPT_N = len(stockPrice) #My reference in terme of size because 1 stockPrice gives me One Option price (call or put)\n",
        "\n",
        "      \n",
        "      \n",
        "      blockdim = 1024,1  # number of threads per block\n",
        "      griddim = int(math.ceil(float(len(stockPrice))/blockdim[0])),1  # number of blocks in the grid\n",
        "      stream = cuda.stream()\n",
        "\n",
        "     #Send data to the GPU (device)\n",
        "\n",
        "      GPU_stockPrice = cuda.to_device(stockPrice, stream)\n",
        "      GPU_optionStrike = cuda.to_device(optionStrike, stream)\n",
        "      GPU_maturity = cuda.to_device(Maturity, stream)\n",
        "\n",
        "      start = time.time()\n",
        "      #Send  empty data to the GPU (device)\n",
        "      GPU_callResult = cuda.to_device(np.zeros(OPT_N), stream)\n",
        "      GPU_putResult = cuda.to_device(np.zeros(OPT_N), stream)\n",
        "      \n",
        "      \n",
        "      \n",
        "      #Run the kernel \n",
        "      black_scholes_cuda_kernel[griddim, blockdim, stream](\n",
        "            GPU_callResult, GPU_putResult, GPU_stockPrice, GPU_optionStrike,\n",
        "            GPU_maturity, Risk_Free_Rate , VOLATILITY)\n",
        "      \n",
        "      #Collect results from GPU to the CPU host\n",
        "      Call_Option_Result = GPU_callResult.to_host(stream)\n",
        "      Put_Option_Result= GPU_putResult.to_host(stream)\n",
        "      \n",
        "\n",
        "      stream.synchronize()\n",
        "\n",
        "      end = time.time()\n",
        "      print(\"Cuda Time without communications: %f µsec per option for %f elements\" %((1000000*(end-start)/i),i))\n",
        "      print(\"Cuda Time without communications: %f µsec for %f elements\" %((1000000*(end-start)),i))\n",
        "      Execution_time_cuda.append((1000000*(end-start)))\n",
        "    print(Execution_time_cuda)\n",
        "    plt.plot(Number_of_input_elements,Execution_time_cuda)\n",
        "    plt.show()\n",
        "\n",
        " \n",
        "#if __name__ == \"__main__\":\n",
        " \n",
        "main()"
      ],
      "execution_count": 0,
      "outputs": [
        {
          "output_type": "stream",
          "text": [
            "Cuda Time without communications: 27.902365 µsec per option for 10000.000000 elements\n",
            "Cuda Time without communications: 279023.647308 µsec for 10000.000000 elements\n",
            "Cuda Time without communications: 0.029716 µsec per option for 100000.000000 elements\n",
            "Cuda Time without communications: 2971.649170 µsec for 100000.000000 elements\n",
            "Cuda Time without communications: 0.011437 µsec per option for 1000000.000000 elements\n",
            "Cuda Time without communications: 11437.416077 µsec for 1000000.000000 elements\n",
            "Cuda Time without communications: 0.010046 µsec per option for 2000000.000000 elements\n",
            "Cuda Time without communications: 20092.964172 µsec for 2000000.000000 elements\n",
            "Cuda Time without communications: 0.010337 µsec per option for 3000000.000000 elements\n",
            "Cuda Time without communications: 31010.389328 µsec for 3000000.000000 elements\n",
            "Cuda Time without communications: 0.012166 µsec per option for 4000000.000000 elements\n",
            "Cuda Time without communications: 48663.854599 µsec for 4000000.000000 elements\n",
            "Cuda Time without communications: 0.010810 µsec per option for 5000000.000000 elements\n",
            "Cuda Time without communications: 54049.968719 µsec for 5000000.000000 elements\n",
            "Cuda Time without communications: 0.010857 µsec per option for 10000000.000000 elements\n",
            "Cuda Time without communications: 108567.476273 µsec for 10000000.000000 elements\n",
            "Cuda Time without communications: 0.009329 µsec per option for 20000000.000000 elements\n",
            "Cuda Time without communications: 186581.373215 µsec for 20000000.000000 elements\n",
            "Cuda Time without communications: 0.010558 µsec per option for 50000000.000000 elements\n",
            "Cuda Time without communications: 527924.776077 µsec for 50000000.000000 elements\n",
            "Cuda Time without communications: 0.008925 µsec per option for 75000000.000000 elements\n",
            "Cuda Time without communications: 669377.326965 µsec for 75000000.000000 elements\n",
            "Cuda Time without communications: 0.008868 µsec per option for 100000000.000000 elements\n",
            "Cuda Time without communications: 886780.738831 µsec for 100000000.000000 elements\n",
            "[279023.6473083496, 2971.649169921875, 11437.416076660156, 20092.96417236328, 31010.38932800293, 48663.85459899902, 54049.96871948242, 108567.47627258301, 186581.37321472168, 527924.7760772705, 669377.326965332, 886780.7388305664]\n"
          ],
          "name": "stdout"
        },
        {
          "output_type": "display_data",
          "data": {
            "image/png": "[encoded data removed]",
            "text/plain": [
              "<Figure size 432x288 with 1 Axes>"
            ]
          },
          "metadata": {
            "tags": []
          }
        }
      ]
    },
    {
      "cell_type": "code",
      "metadata": {
        "id": "VrjOIEkZ9ZvB",
        "colab_type": "code",
        "outputId": "c0af2a99-02d3-46a2-cc4a-f7bd4cbaca6c",
        "colab": {
          "base_uri": "https://localhost:8080/",
          "height": 260
        }
      },
      "source": [
        "Number_of_input_elements = np.asarray([10000,100000,1000000,2000000,3000000,4000000,5000000,10000000,20000000,50000000,75000000,100000000])\n",
        "Numba_GPU_Execution_time = np.asarray([562137.8421783447, 15551.567077636719, 132122.27821350098, 248026.60942077637, 371124.7444152832, 486886.73973083496, 721920.7286834717, 1218189.7163391113, 2385735.7501983643, 6031901.836395264, 9036674.737930298, 11828557.252883911])\n",
        "Numpy_GPU_Execution_time = np.asarray([2314.329147338867, 18576.622009277344, 167844.7723388672, 364560.1272583008, 535658.1211090088, 697205.0666809082, 892873.7640380859, 1769064.6648406982, 3699145.793914795, 9438120.603561401, 14042552.471160889, 18931196.212768555])\n",
        "Numpy_execution_time = np.asarray([8354.18701171875, 28040.88592529297, 241185.18829345703, 474705.93452453613, 678619.8616027832, 881251.0967254639, 1080216.407775879, 2286855.697631836, 4583409.547805786, 11417416.5725708, 16362128.973007202, 21241680.86051941])\n",
        "Numba_GPU_WOC_Execution_Time = np.asarray([279023.6473083496, 2971.649169921875, 11437.416076660156, 20092.96417236328, 31010.38932800293, 48663.85459899902, 54049.96871948242, 108567.47627258301, 186581.37321472168, 527924.7760772705, 669377.326965332, 886780.7388305664])\n",
        "\n",
        "# speedup Numpy : \n",
        "print ('Speed up Numpy / Numpy for each number of inputs',Numpy_execution_time/Numpy_execution_time)\n",
        "\n",
        "#Speedup Numpy_GPU \n",
        "print ('Speed up Numpy_GPU / Numpy for each number of inputs',Numpy_execution_time/Numpy_GPU_Execution_time)\n",
        "\n",
        "#Speedup Numba_GPU\n",
        "\n",
        "\n",
        "#print ('Speed up NumBA_GPU / Numpy for each number of inputs',brr/Numba_GPU_Execution_time)\n",
        "\n",
        "#Speedup Numba GPU Without Communications\n",
        "\n",
        "print ('Speed up NumBA_GPU  / Numpy for each number of inputs',Numpy_execution_time/Numba_GPU_WOC_Execution_Time)\n",
        "\n",
        "\n",
        "\n",
        "#throughput numpy\n",
        "\n",
        "print ('throughput numpy',1000000*Number_of_input_elements/Numpy_execution_time )\n",
        "#throughput numpy gpu\n",
        "print ('throughput numpy gpu ',1000000*Number_of_input_elements/Numpy_GPU_Execution_time )\n",
        "\n",
        "#throughput numba gpu\n",
        "print ('throughput numba gpu ',1000000*Number_of_input_elements/Numba_GPU_WOC_Execution_Time )\n",
        "\n"
      ],
      "execution_count": 0,
      "outputs": [
        {
          "output_type": "stream",
          "text": [
            "Speed up Numpy / Numpy for each number of inputs [1. 1. 1. 1. 1. 1. 1. 1. 1. 1. 1. 1.]\n",
            "Speed up Numpy_GPU / Numpy for each number of inputs [3.60976615 1.50947174 1.43695383 1.30213345 1.2668899  1.2639769\n",
            " 1.20981986 1.29269198 1.23904539 1.20971293 1.16518197 1.12204642]\n",
            "Speed up NumBA_GPU  / Numpy for each number of inputs [ 0.02994078  9.43613607 21.08738431 23.62548056 21.88362921 18.10894562\n",
            " 19.98551402 21.06391137 24.56520428 21.62697621 24.44380518 23.95370121]\n",
            "throughput numpy [1197004.56621005 3566221.1338979  4146191.59275764 4213134.60511757\n",
            " 4420737.10149673 4539001.44336061 4628702.14154106 4372816.35669253\n",
            " 4363563.80362619 4379274.390331   4583755.58117947 4707725.37524861]\n",
            "throughput numpy gpu  [4320906.56227465 5383110.01591457 5957885.88506688 5486063.47885913\n",
            " 5600587.16889963 5737192.95965858 5599895.75389374 5652704.61772548\n",
            " 5406653.62065496 5297664.87420524 5340909.36487701 5282286.38465819]\n",
            "throughput numba gpu  [3.58392563e+04 3.36513479e+07 8.74323355e+07 9.95373297e+07\n",
            " 9.67417715e+07 8.21965303e+07 9.25069916e+07 9.21086162e+07\n",
            " 1.07191836e+08 9.47104631e+07 1.12044428e+08 1.12767447e+08]\n"
          ],
          "name": "stdout"
        }
      ]
    },
    {
      "cell_type": "code",
      "metadata": {
        "id": "cB-2gypN9Z6C",
        "colab_type": "code",
        "colab": {}
      },
      "source": [
        ""
      ],
      "execution_count": 0,
      "outputs": []
    },
    {
      "cell_type": "code",
      "metadata": {
        "id": "xpXevNuL9Z9l",
        "colab_type": "code",
        "outputId": "82595477-515d-4603-efab-dbabce8461f0",
        "colab": {
          "base_uri": "https://localhost:8080/",
          "height": 743
        }
      },
      "source": [
        "import numpy as np\n",
        "from scipy.stats import norm\n",
        "import time\n",
        "import matplotlib.pyplot as plt\n",
        "\n",
        " \n",
        "Risk_Free_Rate = 0.0118 # the current US 10 Year Treasury Rate :1.18% for Mar 18 2020\n",
        "VOLATILITY = 1 # CBOE Volatility Index in the US markets due to covid19 attein 100% monthly variation in February/March 2020\n",
        "\n",
        "#We assume the stock don't pay dividends. \n",
        "\n",
        "# We first need to define the cumulative distribution fonction of the standard normal distribution.\n",
        "\n",
        "def cdf(d):\n",
        "  return norm.cdf(d, loc=0, scale=1)\n",
        "\n",
        "#Then we define our black scholes analytical formula for a call option and a put option\n",
        "\n",
        "def black_scholes(Call_Option_Result, Put_Option_Result, stockPrice, optionStrike, Maturity,\n",
        "                  Riskfree, Volatility):\n",
        "    S = stockPrice\n",
        "    K = optionStrike\n",
        "    T = Maturity\n",
        "    R = Riskfree\n",
        "    V = Volatility\n",
        "    sqrtT = np.sqrt(T)\n",
        "    d1 = (np.log(S / K) + (R + 0.5 * V * V) * T) / (V * sqrtT)\n",
        "    d2 = d1 - V * sqrtT\n",
        "    cdfd1 = cdf(d1)\n",
        "    cdfd2 = cdf(d2)\n",
        " \n",
        "    expRT = np.exp(- R * T)\n",
        "    Call_Option_Result[:] = (S * cdfd1 - K * expRT * cdfd2)\n",
        "    Put_Option_Result[:]= K * expRT * (1.0 - cdfd2) - S * (1.0 - cdfd1)\n",
        "    \n",
        " \n",
        "def randfloat(rand_var, low, high):\n",
        "    return (1.0 - rand_var) * low + rand_var * high\n",
        " \n",
        "def main ():\n",
        "\n",
        "    Number_of_input_elements = [10000,100000,1000000,2000000,3000000,4000000,5000000,10000000,20000000,50000000,75000000,100000000]\n",
        "    Execution_time_numpy = []\n",
        "\n",
        "    for i in Number_of_input_elements:\n",
        "\n",
        "      start = time.time()\n",
        "      stockPrice = randfloat(np.random.random(i), 5.0, 30.0)\n",
        "      optionStrike = randfloat(np.random.random(i), 1.0, 100.0)\n",
        "      Maturity = randfloat(np.random.random(i), 0.25, 10.0) # Duration of the option varies from 3 months to 10 years\n",
        " \n",
        "      \n",
        "      Call_Option_Result = np.zeros(i)\n",
        "      Put_Option_Result = np.zeros(i)\n",
        "      \n",
        "      black_scholes(Call_Option_Result, Put_Option_Result, stockPrice, optionStrike,\n",
        "                      Maturity, Risk_Free_Rate, VOLATILITY)\n",
        "      end = time.time()\n",
        "      print(\"Numpy Time: %f µsec per option for %f elements\" %((1000000*(end-start)/i),i))\n",
        "      print(\"Numpy Time: %f µsec for %f elements\" %((1000000*(end-start)),i))\n",
        "      Execution_time_numpy.append((1000000*(end-start)))\n",
        "    print(Execution_time_numpy)\n",
        "    plt.plot(Number_of_input_elements,Execution_time_numpy)\n",
        "    plt.show()\n",
        "\n",
        " \n",
        "#if __name__ == \"__main__\":\n",
        " \n",
        "main()"
      ],
      "execution_count": 0,
      "outputs": [
        {
          "output_type": "stream",
          "text": [
            "Numpy Time: 0.411558 µsec per option for 10000.000000 elements\n",
            "Numpy Time: 4115.581512 µsec for 10000.000000 elements\n",
            "Numpy Time: 0.469069 µsec per option for 100000.000000 elements\n",
            "Numpy Time: 46906.948090 µsec for 100000.000000 elements\n",
            "Numpy Time: 0.316516 µsec per option for 1000000.000000 elements\n",
            "Numpy Time: 316515.684128 µsec for 1000000.000000 elements\n",
            "Numpy Time: 0.286515 µsec per option for 2000000.000000 elements\n",
            "Numpy Time: 573030.233383 µsec for 2000000.000000 elements\n",
            "Numpy Time: 0.272602 µsec per option for 3000000.000000 elements\n",
            "Numpy Time: 817805.767059 µsec for 3000000.000000 elements\n",
            "Numpy Time: 0.271728 µsec per option for 4000000.000000 elements\n",
            "Numpy Time: 1086912.631989 µsec for 4000000.000000 elements\n",
            "Numpy Time: 0.261370 µsec per option for 5000000.000000 elements\n",
            "Numpy Time: 1306851.148605 µsec for 5000000.000000 elements\n",
            "Numpy Time: 0.283916 µsec per option for 10000000.000000 elements\n",
            "Numpy Time: 2839160.442352 µsec for 10000000.000000 elements\n",
            "Numpy Time: 0.281435 µsec per option for 20000000.000000 elements\n",
            "Numpy Time: 5628708.600998 µsec for 20000000.000000 elements\n",
            "Numpy Time: 0.286014 µsec per option for 50000000.000000 elements\n",
            "Numpy Time: 14300718.545914 µsec for 50000000.000000 elements\n",
            "Numpy Time: 0.270392 µsec per option for 75000000.000000 elements\n",
            "Numpy Time: 20279399.871826 µsec for 75000000.000000 elements\n",
            "Numpy Time: 0.261968 µsec per option for 100000000.000000 elements\n",
            "Numpy Time: 26196803.569794 µsec for 100000000.000000 elements\n",
            "[4115.581512451172, 46906.94808959961, 316515.6841278076, 573030.2333831787, 817805.7670593262, 1086912.6319885254, 1306851.1486053467, 2839160.442352295, 5628708.600997925, 14300718.545913696, 20279399.871826172, 26196803.5697937]\n"
          ],
          "name": "stdout"
        },
        {
          "output_type": "display_data",
          "data": {
            "image/png": "[encoded data removed]",
            "text/plain": [
              "<Figure size 432x288 with 1 Axes>"
            ]
          },
          "metadata": {
            "tags": []
          }
        }
      ]
    },
    {
      "cell_type": "code",
      "metadata": {
        "id": "rdO2Jc669Z43",
        "colab_type": "code",
        "colab": {}
      },
      "source": [
        ""
      ],
      "execution_count": 0,
      "outputs": []
    },
    {
      "cell_type": "code",
      "metadata": {
        "id": "t_7XG1N39Z37",
        "colab_type": "code",
        "colab": {}
      },
      "source": [
        ""
      ],
      "execution_count": 0,
      "outputs": []
    },
    {
      "cell_type": "code",
      "metadata": {
        "id": "oue7kjDE9Z2l",
        "colab_type": "code",
        "colab": {}
      },
      "source": [
        ""
      ],
      "execution_count": 0,
      "outputs": []
    }
  ]
}